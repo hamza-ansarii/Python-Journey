{
 "cells": [
  {
   "cell_type": "markdown",
   "id": "12b977ff-edcd-4180-8e25-945680b5fbc7",
   "metadata": {},
   "source": [
    "# if , else"
   ]
  },
  {
   "cell_type": "code",
   "execution_count": 27,
   "id": "83c82741-d5a0-473f-baef-5550aa3f2509",
   "metadata": {},
   "outputs": [
    {
     "name": "stdout",
     "output_type": "stream",
     "text": [
      "Stop\n"
     ]
    }
   ],
   "source": [
    "light = \"red\"\n",
    "if light == \"green\":\n",
    "    print(\"Go\")\n",
    "else:\n",
    "    print(\"Stop\")\n"
   ]
  },
  {
   "cell_type": "code",
   "execution_count": 28,
   "id": "c13d3b97-5993-493e-94a4-f267df10da30",
   "metadata": {},
   "outputs": [
    {
     "name": "stdout",
     "output_type": "stream",
     "text": [
      "Minor\n"
     ]
    }
   ],
   "source": [
    "age = 15\n",
    "if age >= 18:\n",
    "    print(\"Adlut\")\n",
    "else:\n",
    "    print(\"Minor\")"
   ]
  },
  {
   "cell_type": "code",
   "execution_count": 29,
   "id": "53a345fc-2a56-4c5c-ab44-f297db449d31",
   "metadata": {},
   "outputs": [
    {
     "name": "stdout",
     "output_type": "stream",
     "text": [
      "Please Login\n"
     ]
    }
   ],
   "source": [
    "login = False\n",
    "if login:\n",
    "    print(\"welcome\")\n",
    "else:\n",
    "    print(\"Please Login\")"
   ]
  },
  {
   "cell_type": "markdown",
   "id": "42ce93bc-b30e-4f1c-83b9-a044521ec044",
   "metadata": {},
   "source": [
    "# if , else , elif"
   ]
  },
  {
   "cell_type": "code",
   "execution_count": 39,
   "id": "a46f94ee-dfa2-4ee2-af8d-d31813ec6d45",
   "metadata": {},
   "outputs": [
    {
     "name": "stdout",
     "output_type": "stream",
     "text": [
      "Grade D\n"
     ]
    }
   ],
   "source": [
    "marks = 60\n",
    "if marks >= 90:\n",
    "    print(\"Grade A\")\n",
    "elif marks >=80:\n",
    "    print(\"Grade B\")\n",
    "elif marks >=70:\n",
    "    print(\"Grade C\")\n",
    "elif marks >=60:\n",
    "    print(\"Grade D\")\n",
    "else:\n",
    "    print(\"Fail\")"
   ]
  },
  {
   "cell_type": "code",
   "execution_count": 43,
   "id": "57e6c704-7228-49a0-b527-13a0c6549fa3",
   "metadata": {},
   "outputs": [
    {
     "name": "stdout",
     "output_type": "stream",
     "text": [
      "Its warm\n"
     ]
    }
   ],
   "source": [
    "temp = 22\n",
    "if temp >= 30:\n",
    "    print(\"Its very Hot\")\n",
    "elif temp >= 20:\n",
    "    print(\"Its warm\")\n",
    "elif temp >=10:\n",
    "    print(\"Cool\")\n",
    "else:\n",
    "    print(\"Cold\")"
   ]
  },
  {
   "cell_type": "code",
   "execution_count": 48,
   "id": "44108cc5-70a8-49fe-9c4a-1cd999d3cc91",
   "metadata": {},
   "outputs": [
    {
     "name": "stdout",
     "output_type": "stream",
     "text": [
      "Positive\n"
     ]
    }
   ],
   "source": [
    "nums = 1\n",
    "if nums > 0:\n",
    "    print(\"Positive\")\n",
    "elif nums < 0:\n",
    "    print(\"Negative\")\n",
    "else:\n",
    "    print(\"Zero\")"
   ]
  },
  {
   "cell_type": "code",
   "execution_count": 51,
   "id": "1a621615-5a55-430c-b52f-1294373707f8",
   "metadata": {},
   "outputs": [
    {
     "name": "stdout",
     "output_type": "stream",
     "text": [
      "start of the week\n"
     ]
    }
   ],
   "source": [
    "day = \"monday\"\n",
    "if day == \"monday\":\n",
    "    print(\"start of the week\")\n",
    "elif day == \"friday\":\n",
    "    print(\"weekend is coming..\")\n",
    "else:\n",
    "    print(\"Normal day\")"
   ]
  },
  {
   "cell_type": "markdown",
   "id": "653bad34-28aa-4799-824b-7af138a0a520",
   "metadata": {},
   "source": [
    "# Task 1: Voting Eligibility\n",
    "Write a program that checks:\n",
    "\n",
    "Age < 18 → \"You cannot vote\"\n",
    "\n",
    "Age = 18 → \"Just became eligible\"\n",
    "\n",
    "Age > 18 → \"You can vote\""
   ]
  },
  {
   "cell_type": "code",
   "execution_count": 71,
   "id": "ea956177-d82e-47c7-aebf-11e37b6b3f3f",
   "metadata": {},
   "outputs": [
    {
     "name": "stdout",
     "output_type": "stream",
     "text": [
      "You can vote\n"
     ]
    }
   ],
   "source": [
    "age = 19\n",
    "if age > 18:\n",
    "    print(\"You can vote\")\n",
    "elif age == 18:\n",
    "    print(\"Just Become Eligible\")\n",
    "else:\n",
    "    print(\"You cannot vote\")"
   ]
  },
  {
   "cell_type": "markdown",
   "id": "46bac362-c1ee-4c98-b28c-98b4f86b5f60",
   "metadata": {},
   "source": [
    "# TASK 2 – Movie Ticket Checker\n",
    "Ek cinema hall hai, aur ye rules hain:\n",
    "\n",
    "Age < 5 → Print: \"Free Entry for Kids\"\n",
    "\n",
    "Age between 5 and 12 → Print: \"Ticket Price: Rs. 200\"\n",
    "\n",
    "Age between 13 and 59 → Print: \"Ticket Price: Rs. 500\"\n",
    "\n",
    "Age >= 60 → Print: \"Senior Citizen Discount - Ticket Price: Rs. 300\""
   ]
  },
  {
   "cell_type": "code",
   "execution_count": 88,
   "id": "7b244d5c-0419-482e-9673-d60bac35be89",
   "metadata": {},
   "outputs": [
    {
     "name": "stdout",
     "output_type": "stream",
     "text": [
      "Ticket Price: Rs 500\n"
     ]
    }
   ],
   "source": [
    "age = 13\n",
    "if age <= 5:\n",
    "    print(\"Free Entry For Kids\")\n",
    "elif age >= 5 and age <= 12:\n",
    "    print(\"Ticket Price: Rs 200\")\n",
    "elif age >= 13 and age  <= 59:\n",
    "    print(\"Ticket Price: Rs 500\")\n",
    "elif age >= 60:\n",
    "    print(\"Senior citizen discount - Ticket price Rs:300\")\n",
    "else:\n",
    "    print(\"Not Eiligible\")\n"
   ]
  },
  {
   "cell_type": "code",
   "execution_count": null,
   "id": "eef2d7c5-f888-4a7e-ae57-4176047b68b1",
   "metadata": {},
   "outputs": [],
   "source": []
  }
 ],
 "metadata": {
  "kernelspec": {
   "display_name": "Python 3 (ipykernel)",
   "language": "python",
   "name": "python3"
  },
  "language_info": {
   "codemirror_mode": {
    "name": "ipython",
    "version": 3
   },
   "file_extension": ".py",
   "mimetype": "text/x-python",
   "name": "python",
   "nbconvert_exporter": "python",
   "pygments_lexer": "ipython3",
   "version": "3.12.7"
  }
 },
 "nbformat": 4,
 "nbformat_minor": 5
}
