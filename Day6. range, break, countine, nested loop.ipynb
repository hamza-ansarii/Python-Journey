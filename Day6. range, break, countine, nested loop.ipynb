{
 "cells": [
  {
   "cell_type": "markdown",
   "id": "5f9b01e3-093c-4d34-b454-a22878e53085",
   "metadata": {},
   "source": [
    "# range"
   ]
  },
  {
   "cell_type": "markdown",
   "id": "6e1c15b1-4df3-46e2-8742-8576c90c7588",
   "metadata": {},
   "source": [
    "# Task 1:\n",
    "Print all even numbers from 2 to 20 using range() and a for loop.\n",
    " Hint: Even numbers ka step pattern hota hai 2.\n",
    " Expected output:\n",
    "2, 4, 6, 8, 10, 12, 14, 16, 18, 20"
   ]
  },
  {
   "cell_type": "code",
   "execution_count": 15,
   "id": "a2de5799-9452-49ad-a518-920e52fe186f",
   "metadata": {},
   "outputs": [
    {
     "name": "stdout",
     "output_type": "stream",
     "text": [
      "2\n",
      "4\n",
      "6\n",
      "8\n",
      "10\n",
      "12\n",
      "14\n",
      "16\n",
      "18\n",
      "20\n"
     ]
    }
   ],
   "source": [
    "for i in range(2,21,2):\n",
    "    print(i)"
   ]
  },
  {
   "cell_type": "markdown",
   "id": "85b28d68-6887-4f7a-bc1d-18f312b22fb0",
   "metadata": {},
   "source": [
    "# Task 2:\n",
    "Print numbers from 10 to 1 in reverse using range().\n",
    "\n",
    " Hint: Reverse ke liye step negative hoga.\n",
    "\n",
    " Expected output:\n",
    "10, 9, 8, 7, 6, 5, 4, 3, 2, 1\n",
    "\n"
   ]
  },
  {
   "cell_type": "code",
   "execution_count": 16,
   "id": "f195784d-f9c7-4415-b5cc-9df647f68d34",
   "metadata": {},
   "outputs": [
    {
     "name": "stdout",
     "output_type": "stream",
     "text": [
      "10\n",
      "9\n",
      "8\n",
      "7\n",
      "6\n",
      "5\n",
      "4\n",
      "3\n",
      "2\n",
      "1\n"
     ]
    }
   ],
   "source": [
    "for i in range(10,0,-1):\n",
    "    print(i)"
   ]
  },
  {
   "cell_type": "markdown",
   "id": "9adac04f-ddbe-465a-a902-ced6d1a431e9",
   "metadata": {},
   "source": [
    "# Break"
   ]
  },
  {
   "cell_type": "code",
   "execution_count": 23,
   "id": "9c291a85-a320-48f4-835b-56e9accf8b88",
   "metadata": {},
   "outputs": [
    {
     "name": "stdout",
     "output_type": "stream",
     "text": [
      "1\n",
      "2\n",
      "3\n",
      "4\n"
     ]
    }
   ],
   "source": [
    "for a in range(1,11):\n",
    "    if a == 5:\n",
    "        break\n",
    "    print(a)"
   ]
  },
  {
   "cell_type": "code",
   "execution_count": 30,
   "id": "c99e790c-dd44-405c-bd0a-d44e488f497c",
   "metadata": {},
   "outputs": [
    {
     "name": "stdout",
     "output_type": "stream",
     "text": [
      "1\n",
      "2\n"
     ]
    }
   ],
   "source": [
    "x = 1\n",
    "while x < 5:\n",
    "    if x == 3:\n",
    "        break\n",
    "    print(x)\n",
    "    x += 1"
   ]
  },
  {
   "cell_type": "code",
   "execution_count": 33,
   "id": "c3ff8065-803f-42d8-92d3-9deaf3a6b5b4",
   "metadata": {},
   "outputs": [
    {
     "name": "stdout",
     "output_type": "stream",
     "text": [
      "1\n",
      "2\n",
      "3\n",
      "4\n",
      "5\n"
     ]
    }
   ],
   "source": [
    "for b in range(1,11):\n",
    "    if b % 6 == 0:\n",
    "        break\n",
    "    print(b)"
   ]
  },
  {
   "cell_type": "code",
   "execution_count": 2,
   "id": "7ebd35e4-2fce-4ad1-9672-f45a2a9b98ef",
   "metadata": {},
   "outputs": [
    {
     "name": "stdout",
     "output_type": "stream",
     "text": [
      "1\n",
      "2\n",
      "3\n",
      "4\n",
      "5\n",
      "6\n"
     ]
    }
   ],
   "source": [
    "for c in range(1,11):\n",
    "    if  c == 7:\n",
    "        break\n",
    "    print(c)"
   ]
  },
  {
   "cell_type": "code",
   "execution_count": 8,
   "id": "b2c72d6b-93ce-4486-855e-de9b8fad0e06",
   "metadata": {},
   "outputs": [
    {
     "name": "stdout",
     "output_type": "stream",
     "text": [
      "1\n"
     ]
    }
   ],
   "source": [
    "for n in range(1,21):\n",
    "    if n % 2 == 0:\n",
    "        break\n",
    "    print(n)"
   ]
  },
  {
   "cell_type": "code",
   "execution_count": 10,
   "id": "00bfcbcd-5aaa-4841-b2db-35c202ea3875",
   "metadata": {},
   "outputs": [
    {
     "name": "stdout",
     "output_type": "stream",
     "text": [
      "2\n"
     ]
    }
   ],
   "source": [
    "for n in range(1, 21):\n",
    "    if n % 2 == 0:         # Jaise hi even mile\n",
    "        print(n)           # Usko print karo\n",
    "        break              # Phir loop ko tod do\n"
   ]
  },
  {
   "cell_type": "code",
   "execution_count": 5,
   "id": "46aae786-94da-4b6b-9a7f-3497a8a0d7e7",
   "metadata": {},
   "outputs": [
    {
     "name": "stdout",
     "output_type": "stream",
     "text": [
      "1\n"
     ]
    }
   ],
   "source": [
    "x = 1\n",
    "while x < 20:\n",
    "    if x % 2 == 0:\n",
    "        break\n",
    "    print(x)\n",
    "    x += 1"
   ]
  },
  {
   "cell_type": "code",
   "execution_count": 13,
   "id": "480cdb15-3614-4a6e-8c7c-c36cfefc8614",
   "metadata": {},
   "outputs": [
    {
     "name": "stdout",
     "output_type": "stream",
     "text": [
      "2\n"
     ]
    }
   ],
   "source": [
    "x = 1\n",
    "while x < 20:\n",
    "    if x % 2 == 0:\n",
    "        print(x)       # Even number milte hi print karo\n",
    "        break          # Aur loop se bahar aa jao\n",
    "    x += 1\n"
   ]
  },
  {
   "cell_type": "code",
   "execution_count": 9,
   "id": "7b5f541c-6b86-47a5-8553-ad915ea6ea9a",
   "metadata": {},
   "outputs": [
    {
     "name": "stdout",
     "output_type": "stream",
     "text": [
      "1\n",
      "2\n",
      "3\n",
      "4\n",
      "5\n",
      "6\n",
      "7\n",
      "8\n",
      "9\n",
      "10\n",
      "11\n",
      "12\n"
     ]
    }
   ],
   "source": [
    "x = 1\n",
    "while x < 20:\n",
    "    if x == 13:\n",
    "        break\n",
    "    print(x)\n",
    "    x += 1"
   ]
  },
  {
   "cell_type": "markdown",
   "id": "cf079a7d-6fc2-4e2f-8139-9af82f34117e",
   "metadata": {},
   "source": [
    "# continue "
   ]
  },
  {
   "cell_type": "code",
   "execution_count": 15,
   "id": "c62cb2ba-3b70-4a72-9b4a-7c9d2d23377e",
   "metadata": {},
   "outputs": [
    {
     "name": "stdout",
     "output_type": "stream",
     "text": [
      "1\n",
      "3\n",
      "5\n",
      "7\n",
      "9\n"
     ]
    }
   ],
   "source": [
    "for x in range(1,10):\n",
    "    if x % 2 == 0:\n",
    "        continue\n",
    "    print(x)"
   ]
  },
  {
   "cell_type": "code",
   "execution_count": 17,
   "id": "a7e79d85-2dbd-4d4f-aa27-97495107e5e1",
   "metadata": {},
   "outputs": [
    {
     "name": "stdout",
     "output_type": "stream",
     "text": [
      "1\n",
      "2\n",
      "4\n",
      "5\n"
     ]
    }
   ],
   "source": [
    "x = 0\n",
    "while x < 5:\n",
    "    x += 1\n",
    "    if x == 3:\n",
    "        continue\n",
    "    print(x)"
   ]
  },
  {
   "cell_type": "markdown",
   "id": "3581e95c-1f1f-40e8-837b-20858d15e4ff",
   "metadata": {},
   "source": [
    "# Task 1: Skip Multiples of 3 (1 to 20)\n",
    "🔹 Question:\n",
    "Ek for loop banao jo 1 se 20 tak numbers print kare — lekin agar koi number 3 ka multiple ho (jaise 3, 6, 9...), to usay skip karo using continue."
   ]
  },
  {
   "cell_type": "code",
   "execution_count": 22,
   "id": "34b7a2c2-5bd5-4e9e-94f2-c5afd27385aa",
   "metadata": {},
   "outputs": [
    {
     "name": "stdout",
     "output_type": "stream",
     "text": [
      "1\n",
      "3\n",
      "5\n",
      "7\n",
      "9\n",
      "11\n",
      "13\n",
      "15\n",
      "17\n",
      "19\n"
     ]
    }
   ],
   "source": [
    "for x in range(1,20):\n",
    "    if x % 2 ==0:\n",
    "        continue\n",
    "    print(x)"
   ]
  },
  {
   "cell_type": "markdown",
   "id": "9363b892-6629-43d2-b746-f075a3921bc9",
   "metadata": {},
   "source": [
    "#  Task 2: Skip Number 7 and 15 in While Loop\n",
    "🔹 Question:\n",
    "Ek while loop banao jo 1 se 20 tak numbers print kare — lekin agar number 7 ya 15 ho, to usay print na karo (skip karo) using continue."
   ]
  },
  {
   "cell_type": "code",
   "execution_count": 1,
   "id": "a9673d01-bdcd-4738-b525-d23667697f06",
   "metadata": {},
   "outputs": [
    {
     "name": "stdout",
     "output_type": "stream",
     "text": [
      "1\n",
      "2\n",
      "3\n",
      "4\n",
      "5\n",
      "6\n",
      "8\n",
      "9\n",
      "10\n",
      "11\n",
      "12\n",
      "13\n",
      "14\n",
      "16\n",
      "17\n",
      "18\n",
      "19\n",
      "20\n"
     ]
    }
   ],
   "source": [
    "x = 0\n",
    "while x < 20:\n",
    "    x += 1\n",
    "    if x == 7 or x == 15:\n",
    "        continue\n",
    "    print(x)"
   ]
  },
  {
   "cell_type": "markdown",
   "id": "1e807b9c-6966-401d-af5c-1636199f594d",
   "metadata": {},
   "source": [
    "# Nested loop"
   ]
  },
  {
   "cell_type": "code",
   "execution_count": 1,
   "id": "60f805ca-b8d5-4a1f-b2b3-4926e8d55d57",
   "metadata": {},
   "outputs": [
    {
     "name": "stdout",
     "output_type": "stream",
     "text": [
      "i = 1, j = 1\n",
      "i = 1, j = 2\n",
      "i = 2, j = 1\n",
      "i = 2, j = 2\n"
     ]
    }
   ],
   "source": [
    "# Outer loop (runs 3 times)\n",
    "for i in range(1, 3):\n",
    "    # Inner loop (runs 2 times)\n",
    "    for j in range(1, 3):\n",
    "        print(f\"i = {i}, j = {j}\")\n"
   ]
  },
  {
   "cell_type": "markdown",
   "id": "60417563-b0be-44f3-9e89-e960a9e65ff3",
   "metadata": {},
   "source": [
    "# Task 1: Multiplication Table Grid (Nested For Loops)\n",
    "🔸 Objective: Print multiplication tables from 2 to 4.\n",
    "🔸 Use: for loop + nested for loop"
   ]
  },
  {
   "cell_type": "code",
   "execution_count": 2,
   "id": "1332467d-5346-4a68-98ae-32cc98ee6fe9",
   "metadata": {},
   "outputs": [
    {
     "name": "stdout",
     "output_type": "stream",
     "text": [
      "2 x 1 = 2\n",
      "2 x 2 = 4\n",
      "2 x 3 = 6\n",
      "2 x 4 = 8\n",
      "2 x 5 = 10\n",
      "2 x 6 = 12\n",
      "2 x 7 = 14\n",
      "2 x 8 = 16\n",
      "2 x 9 = 18\n",
      "2 x 10 = 20\n",
      "3 x 1 = 3\n",
      "3 x 2 = 6\n",
      "3 x 3 = 9\n",
      "3 x 4 = 12\n",
      "3 x 5 = 15\n",
      "3 x 6 = 18\n",
      "3 x 7 = 21\n",
      "3 x 8 = 24\n",
      "3 x 9 = 27\n",
      "3 x 10 = 30\n",
      "4 x 1 = 4\n",
      "4 x 2 = 8\n",
      "4 x 3 = 12\n",
      "4 x 4 = 16\n",
      "4 x 5 = 20\n",
      "4 x 6 = 24\n",
      "4 x 7 = 28\n",
      "4 x 8 = 32\n",
      "4 x 9 = 36\n",
      "4 x 10 = 40\n"
     ]
    }
   ],
   "source": [
    "for i in range(2,5):\n",
    "    for j in range(1,11):\n",
    "        table = i*j\n",
    "        print(f\"{i} x {j} = {table}\")"
   ]
  },
  {
   "cell_type": "markdown",
   "id": "496444a9-069c-4016-87e4-8e8387be02e3",
   "metadata": {},
   "source": [
    "# Task 2: Skip Multiples of 3 and Stop at 15 (While + Continue + Break)\n",
    "🔸 Objective: 1 se 20 tak numbers print karo\n",
    "🔸 Lekin:\n",
    "\n",
    "continue use karo to skip karo multiples of 3\n",
    "\n",
    "break use karo jab number 15 par pohch jaye"
   ]
  },
  {
   "cell_type": "code",
   "execution_count": 14,
   "id": "96778e39-b393-4ceb-96b9-c16572ce1b72",
   "metadata": {},
   "outputs": [
    {
     "name": "stdout",
     "output_type": "stream",
     "text": [
      "1\n",
      "2\n",
      "4\n",
      "5\n",
      "7\n",
      "8\n",
      "10\n",
      "11\n",
      "13\n",
      "14\n"
     ]
    }
   ],
   "source": [
    "x = 0\n",
    "while x <= 20:\n",
    "    x += 1\n",
    "    if x == 15:\n",
    "        break\n",
    "    if x % 3 == 0:\n",
    "        continue\n",
    "    print(x)\n",
    "    "
   ]
  },
  {
   "cell_type": "markdown",
   "id": "2283f08a-6028-4b0a-bfb0-dc60429d5916",
   "metadata": {},
   "source": [
    "# Task 3: Nested Loops — Odd Numbers Grid (For + If + Continue)\n",
    "🔸 Objective: 1 se 3 tak rows print karo\n",
    "🔸 Har row me 1 se 5 tak numbers print karo\n",
    "🔸 Skip karo even numbers using continue"
   ]
  },
  {
   "cell_type": "code",
   "execution_count": 15,
   "id": "284a8d10-d2c4-46c1-90ab-84fcf10433c3",
   "metadata": {},
   "outputs": [
    {
     "name": "stdout",
     "output_type": "stream",
     "text": [
      "1 3 5 \n",
      "1 3 5 \n",
      "1 3 5 \n"
     ]
    }
   ],
   "source": [
    "for i in range(1,4):\n",
    "    for j in range(1,6):\n",
    "        if j % 2 == 0:\n",
    "            continue\n",
    "        print(j, end=\" \")\n",
    "    print()"
   ]
  },
  {
   "cell_type": "code",
   "execution_count": 16,
   "id": "bc1ccf81-52fe-4de4-ac28-e340d05b19b5",
   "metadata": {},
   "outputs": [
    {
     "name": "stdout",
     "output_type": "stream",
     "text": [
      "tho\n"
     ]
    }
   ],
   "source": [
    "x = \"Python\"\n",
    "y = x[2:5]\n",
    "print(y)\n"
   ]
  },
  {
   "cell_type": "code",
   "execution_count": null,
   "id": "9d40b7d3-c006-4825-98bd-e870bf2d1e55",
   "metadata": {},
   "outputs": [],
   "source": []
  }
 ],
 "metadata": {
  "kernelspec": {
   "display_name": "Python 3 (ipykernel)",
   "language": "python",
   "name": "python3"
  },
  "language_info": {
   "codemirror_mode": {
    "name": "ipython",
    "version": 3
   },
   "file_extension": ".py",
   "mimetype": "text/x-python",
   "name": "python",
   "nbconvert_exporter": "python",
   "pygments_lexer": "ipython3",
   "version": "3.12.7"
  }
 },
 "nbformat": 4,
 "nbformat_minor": 5
}
