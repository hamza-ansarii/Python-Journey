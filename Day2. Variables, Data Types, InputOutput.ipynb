{
 "cells": [
  {
   "cell_type": "code",
   "execution_count": null,
   "id": "8a92440f-45ba-4f26-bc0a-d156c314a870",
   "metadata": {},
   "outputs": [],
   "source": [
    "name = input(\"What is your name?\")\n",
    "age = int(input(\"what is your age?\"))\n",
    "\n",
    "print(\"Your name is\",name ,  \"your age is\",age)\n",
    "\n",
    "print(type(age))\n",
    "print(type(name))"
   ]
  },
  {
   "cell_type": "code",
   "execution_count": 11,
   "id": "c6f5b465-8547-4aac-bef7-13b1636c9f2d",
   "metadata": {},
   "outputs": [
    {
     "name": "stdin",
     "output_type": "stream",
     "text": [
      "What is your name? hamza\n",
      "What is your age? 21\n",
      "What is your height? 5.5\n",
      "Your fovt color? white\n"
     ]
    },
    {
     "name": "stdout",
     "output_type": "stream",
     "text": [
      "Your name is hamza your age is 21 your height is 5.5 and your fovt color is white\n",
      "<class 'float'>\n"
     ]
    }
   ],
   "source": [
    "name1 = input(\"What is your name?\")\n",
    "age1 = int(input(\"What is your age?\"))\n",
    "height = float(input(\"What is your height?\"))\n",
    "color = input(\"Your fovt color?\")\n",
    "\n",
    "print(\"Your name is\",name1, \"your age is\",age1, \"your height is\", height, \"and your fovt color is\", color )\n",
    "\n",
    "print(type(height))\n"
   ]
  },
  {
   "cell_type": "code",
   "execution_count": null,
   "id": "32a2270e-90c8-4ec2-b3bd-735089c57ac9",
   "metadata": {},
   "outputs": [],
   "source": []
  }
 ],
 "metadata": {
  "kernelspec": {
   "display_name": "Python 3 (ipykernel)",
   "language": "python",
   "name": "python3"
  },
  "language_info": {
   "codemirror_mode": {
    "name": "ipython",
    "version": 3
   },
   "file_extension": ".py",
   "mimetype": "text/x-python",
   "name": "python",
   "nbconvert_exporter": "python",
   "pygments_lexer": "ipython3",
   "version": "3.12.7"
  }
 },
 "nbformat": 4,
 "nbformat_minor": 5
}
