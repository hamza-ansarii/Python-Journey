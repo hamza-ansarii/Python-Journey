{
 "cells": [
  {
   "cell_type": "markdown",
   "id": "feee79e4-e738-4b02-afd6-33311ab19a76",
   "metadata": {},
   "source": [
    "#  For Loop \n",
    "  - for loop ka use sequence (list, string, tuple, etc.) ko iterate karne ke liye hota hai.\n",
    "  - Jab tumhe pata ho kitni dafa loop chalana hai, for best hota hai."
   ]
  },
  {
   "cell_type": "code",
   "execution_count": 1,
   "id": "e60a4dcc-a398-41bf-b840-44abfea35230",
   "metadata": {},
   "outputs": [
    {
     "name": "stdout",
     "output_type": "stream",
     "text": [
      "apply\n",
      "mango\n",
      "banana\n"
     ]
    }
   ],
   "source": [
    "fruits = [\"apply\", \"mango\", \"banana\"]\n",
    "for fruit in fruits:\n",
    "    print(fruit)"
   ]
  },
  {
   "cell_type": "code",
   "execution_count": 9,
   "id": "46c75831-1b19-4deb-87c4-05910afb3db2",
   "metadata": {},
   "outputs": [
    {
     "name": "stdout",
     "output_type": "stream",
     "text": [
      "0\n",
      "3\n",
      "6\n",
      "9\n"
     ]
    }
   ],
   "source": [
    "for i in range(0,10,3):\n",
    "    print(i)"
   ]
  },
  {
   "cell_type": "code",
   "execution_count": 12,
   "id": "6b703826-f04d-4ee0-9992-3c704f218f45",
   "metadata": {},
   "outputs": [
    {
     "name": "stdout",
     "output_type": "stream",
     "text": [
      "h\n",
      "a\n",
      "m\n",
      "z\n",
      "a\n"
     ]
    }
   ],
   "source": [
    "name = \"hamza\"\n",
    "for character in name:\n",
    "    print(character)"
   ]
  },
  {
   "cell_type": "markdown",
   "id": "e53bedca-2ab8-4f0d-ad5e-01e417dfa5b7",
   "metadata": {},
   "source": [
    "# While Loop\n",
    " - Keywords: while, break, continue\n",
    " - while = start loop\n",
    " - break = loop ko beech me roko\n",
    " - continue = current iteration skip kar ke agli par chalo"
   ]
  },
  {
   "cell_type": "code",
   "execution_count": 19,
   "id": "2d9fa3cc-c13f-45ee-913c-000854bbe101",
   "metadata": {},
   "outputs": [
    {
     "name": "stdout",
     "output_type": "stream",
     "text": [
      "1\n",
      "2\n",
      "3\n",
      "4\n",
      "5\n",
      "6\n"
     ]
    }
   ],
   "source": [
    "i = 1\n",
    "while i <= 6:\n",
    "    print(i)\n",
    "    i += 1"
   ]
  },
  {
   "cell_type": "code",
   "execution_count": 8,
   "id": "f8d791d2-6574-4e25-aac3-9a80b69de0f6",
   "metadata": {},
   "outputs": [
    {
     "name": "stdout",
     "output_type": "stream",
     "text": [
      "0\n",
      "1\n",
      "2\n",
      "3\n",
      "4\n",
      "5\n"
     ]
    }
   ],
   "source": [
    "a = 0\n",
    "while a <= 10:\n",
    "    print(a)\n",
    "    if a ==  5:\n",
    "        break\n",
    "    a += 1"
   ]
  },
  {
   "cell_type": "code",
   "execution_count": 2,
   "id": "2408dba0-c635-41db-96b4-c13b4c51eeff",
   "metadata": {},
   "outputs": [
    {
     "name": "stdout",
     "output_type": "stream",
     "text": [
      "1\n",
      "2\n",
      "4\n",
      "5\n",
      "6\n"
     ]
    }
   ],
   "source": [
    "b = 0\n",
    "while b < 6:\n",
    "    b += 1\n",
    "    if b == 3:\n",
    "        continue\n",
    "    print(b)"
   ]
  },
  {
   "cell_type": "code",
   "execution_count": 12,
   "id": "76e79520-e02d-4385-a048-bc77671cc89f",
   "metadata": {},
   "outputs": [
    {
     "name": "stdout",
     "output_type": "stream",
     "text": [
      "2\n",
      "4\n",
      "5\n",
      "6\n"
     ]
    }
   ],
   "source": [
    "c = 1\n",
    "while c < 6:\n",
    "    i += 1\n",
    "    if i == 3:\n",
    "        continue  # 3 print nahi hoga\n",
    "    print(i)\n"
   ]
  },
  {
   "cell_type": "code",
   "execution_count": 2,
   "id": "830be826-4c42-4362-93c3-5abcda10dc40",
   "metadata": {},
   "outputs": [
    {
     "name": "stdout",
     "output_type": "stream",
     "text": [
      "0\n",
      "1\n",
      "2\n",
      "4\n",
      "5\n"
     ]
    }
   ],
   "source": [
    "d = 0\n",
    "while d < 6:\n",
    "    if d == 3:\n",
    "        d += 1\n",
    "        continue\n",
    "    print(d)\n",
    "    d += 1\n"
   ]
  },
  {
   "cell_type": "code",
   "execution_count": 3,
   "id": "c26a535a-3576-4066-b454-7f26fbd7dfa2",
   "metadata": {},
   "outputs": [
    {
     "name": "stdout",
     "output_type": "stream",
     "text": [
      "2 x 1 = 2\n",
      "2 x 2 = 4\n",
      "2 x 3 = 6\n",
      "2 x 4 = 8\n",
      "2 x 5 = 10\n",
      "2 x 6 = 12\n",
      "2 x 7 = 14\n",
      "2 x 8 = 16\n",
      "2 x 9 = 18\n",
      "2 x 10 = 20\n"
     ]
    }
   ],
   "source": [
    "for i in range(1,11):\n",
    "    table = 2*i\n",
    "    print(f\"2 x {i} = {table}\")"
   ]
  },
  {
   "cell_type": "code",
   "execution_count": 1,
   "id": "b075da71-3272-4371-a4e6-e74d2bb70bc4",
   "metadata": {},
   "outputs": [
    {
     "name": "stdout",
     "output_type": "stream",
     "text": [
      "10\n",
      "9\n",
      "8\n",
      "7\n",
      "6\n",
      "5\n",
      "4\n",
      "3\n",
      "2\n",
      "1\n"
     ]
    }
   ],
   "source": [
    "i = 10\n",
    "while i >= 1:\n",
    "    print(i)\n",
    "    i -= 1"
   ]
  },
  {
   "cell_type": "code",
   "execution_count": 9,
   "id": "6fcdb642-dd70-40ec-83c5-b9985113ea8c",
   "metadata": {},
   "outputs": [
    {
     "name": "stdout",
     "output_type": "stream",
     "text": [
      "1 is odd\n",
      "2 is even\n",
      "3 is odd\n",
      "4 is even\n",
      "5 is odd\n",
      "6 is even\n",
      "7 is odd\n",
      "8 is even\n",
      "9 is odd\n",
      "10 is even\n"
     ]
    }
   ],
   "source": [
    "for i in range(1,11):\n",
    "    if i % 2 ==0:\n",
    "        print(f\"{i} is even\")\n",
    "    else:\n",
    "        print(f\"{i} is odd\")"
   ]
  },
  {
   "cell_type": "markdown",
   "id": "12a0bcbe-ecf3-412e-a794-a4498a36fae0",
   "metadata": {},
   "source": [
    "# Combined Revision Task (Day 1–5):\n",
    "🔹 Task: Even Multiples Table (1 to 5)\n",
    "Print karo numbers 1 se 5 tak ke multiples (1 to 10) lekin sirf even results ko print karo.\n",
    "👉 Use nested loop (jo aap next sikhenge) ki jagah abhi ke liye simple loops ka use karo."
   ]
  },
  {
   "cell_type": "code",
   "execution_count": 10,
   "id": "d1d2245b-2674-47ca-9782-1db158b1bc3c",
   "metadata": {},
   "outputs": [
    {
     "name": "stdout",
     "output_type": "stream",
     "text": [
      "1 x 2 = 2\n",
      "1 x 4 = 4\n",
      "1 x 6 = 6\n",
      "1 x 8 = 8\n",
      "1 x 10 = 10\n",
      "2 x 1 = 2\n",
      "2 x 2 = 4\n",
      "2 x 3 = 6\n",
      "2 x 4 = 8\n",
      "2 x 5 = 10\n",
      "2 x 6 = 12\n",
      "2 x 7 = 14\n",
      "2 x 8 = 16\n",
      "2 x 9 = 18\n",
      "2 x 10 = 20\n",
      "3 x 2 = 6\n",
      "3 x 4 = 12\n",
      "3 x 6 = 18\n",
      "3 x 8 = 24\n",
      "3 x 10 = 30\n",
      "4 x 1 = 4\n",
      "4 x 2 = 8\n",
      "4 x 3 = 12\n",
      "4 x 4 = 16\n",
      "4 x 5 = 20\n",
      "4 x 6 = 24\n",
      "4 x 7 = 28\n",
      "4 x 8 = 32\n",
      "4 x 9 = 36\n",
      "4 x 10 = 40\n",
      "5 x 2 = 10\n",
      "5 x 4 = 20\n",
      "5 x 6 = 30\n",
      "5 x 8 = 40\n",
      "5 x 10 = 50\n"
     ]
    }
   ],
   "source": [
    "for a in range(1,6):\n",
    "    for b in range(1,11):\n",
    "        result = a * b\n",
    "        if result % 2 ==0:\n",
    "            print(f\"{a} x {b} = {result}\")"
   ]
  },
  {
   "cell_type": "code",
   "execution_count": 11,
   "id": "bb02ef52-e1ee-4308-bbbe-6e9d0e3fbbe3",
   "metadata": {},
   "outputs": [
    {
     "name": "stdout",
     "output_type": "stream",
     "text": [
      "1 x 2 = 2\n",
      "1 x 4 = 4\n",
      "1 x 6 = 6\n",
      "1 x 8 = 8\n",
      "1 x 10 = 10\n",
      "2 x 1 = 2\n",
      "2 x 2 = 4\n",
      "2 x 3 = 6\n",
      "2 x 4 = 8\n",
      "2 x 5 = 10\n",
      "2 x 6 = 12\n",
      "2 x 7 = 14\n",
      "2 x 8 = 16\n",
      "2 x 9 = 18\n",
      "2 x 10 = 20\n",
      "3 x 2 = 6\n",
      "3 x 4 = 12\n",
      "3 x 6 = 18\n",
      "3 x 8 = 24\n",
      "3 x 10 = 30\n",
      "4 x 1 = 4\n",
      "4 x 2 = 8\n",
      "4 x 3 = 12\n",
      "4 x 4 = 16\n",
      "4 x 5 = 20\n",
      "4 x 6 = 24\n",
      "4 x 7 = 28\n",
      "4 x 8 = 32\n",
      "4 x 9 = 36\n",
      "4 x 10 = 40\n",
      "5 x 2 = 10\n",
      "5 x 4 = 20\n",
      "5 x 6 = 30\n",
      "5 x 8 = 40\n",
      "5 x 10 = 50\n"
     ]
    }
   ],
   "source": [
    "# Start table number from 1\n",
    "table_number = 1\n",
    "multiplier = 1\n",
    "\n",
    "while table_number <= 5:\n",
    "    result = table_number * multiplier\n",
    "    \n",
    "    if result % 2 == 0:\n",
    "        print(f\"{table_number} x {multiplier} = {result}\")\n",
    "\n",
    "    multiplier += 1  # multiplier ko agay barhao\n",
    "\n",
    "    # Jab 10 tak ho jaye to table number badlo aur multiplier reset karo\n",
    "    if multiplier > 10:\n",
    "        table_number += 1\n",
    "        multiplier = 1\n"
   ]
  },
  {
   "cell_type": "code",
   "execution_count": null,
   "id": "1dec874c-7d9f-41b4-9e35-fffd8c336962",
   "metadata": {},
   "outputs": [],
   "source": []
  }
 ],
 "metadata": {
  "kernelspec": {
   "display_name": "Python 3 (ipykernel)",
   "language": "python",
   "name": "python3"
  },
  "language_info": {
   "codemirror_mode": {
    "name": "ipython",
    "version": 3
   },
   "file_extension": ".py",
   "mimetype": "text/x-python",
   "name": "python",
   "nbconvert_exporter": "python",
   "pygments_lexer": "ipython3",
   "version": "3.12.7"
  }
 },
 "nbformat": 4,
 "nbformat_minor": 5
}
