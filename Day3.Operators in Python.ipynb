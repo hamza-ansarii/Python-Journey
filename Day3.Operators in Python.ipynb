{
 "cells": [
  {
   "cell_type": "markdown",
   "id": "aaeae971-24a3-4925-892a-2afe740b2f60",
   "metadata": {},
   "source": [
    "# Arithmetic Operators"
   ]
  },
  {
   "cell_type": "code",
   "execution_count": 1,
   "id": "dbfd6e34-bafd-40e0-8413-44cc5de1267a",
   "metadata": {},
   "outputs": [
    {
     "name": "stdout",
     "output_type": "stream",
     "text": [
      "Addition: 13\n",
      "Subtraction: 7\n",
      "Multiplication: 30\n",
      "Division: 3.3333333333333335\n",
      "Modulus: 1\n",
      "Exponent: 1000\n"
     ]
    }
   ],
   "source": [
    "a = 10\n",
    "b = 3\n",
    "print(\"Addition:\", a + b)\n",
    "print(\"Subtraction:\", a - b)\n",
    "print(\"Multiplication:\", a * b)\n",
    "print(\"Division:\", a / b)\n",
    "print(\"Modulus:\", a % b)\n",
    "print(\"Exponent:\", a ** b)"
   ]
  },
  {
   "cell_type": "code",
   "execution_count": 5,
   "id": "fa6c6f5f-dcca-4f4c-a371-e89485b5d166",
   "metadata": {},
   "outputs": [
    {
     "name": "stdout",
     "output_type": "stream",
     "text": [
      "Addition 13\n",
      "Substraction 7\n",
      "multiplication 30\n",
      "Division 3.3333333333333335\n",
      "floor division 3\n",
      "modulus 1\n",
      "Exponent 1000\n"
     ]
    }
   ],
   "source": [
    "x = 20\n",
    "y = 5\n",
    "print(\"Addition\", a + b)\n",
    "print(\"Substraction\", a - b)\n",
    "print(\"multiplication\", a * b)\n",
    "print(\"Division\", a / b)\n",
    "print(\"floor division\", a // b)\n",
    "print(\"modulus\", a % b)\n",
    "print(\"Exponent\", a**b)"
   ]
  },
  {
   "cell_type": "markdown",
   "id": "2448415c-4ab1-4c43-9cb1-5f2461f900d5",
   "metadata": {},
   "source": [
    "#  Comparison Operators"
   ]
  },
  {
   "cell_type": "code",
   "execution_count": 6,
   "id": "4296cc8b-de94-4fd3-8899-dc7a0382b547",
   "metadata": {},
   "outputs": [
    {
     "name": "stdout",
     "output_type": "stream",
     "text": [
      "False\n",
      "True\n",
      "True\n",
      "False\n"
     ]
    }
   ],
   "source": [
    "x = 5\n",
    "y = 10\n",
    "print(x == y)  # False\n",
    "print(x != y)  # True\n",
    "print(x < y)   # True\n",
    "print(x >= y)  # False"
   ]
  },
  {
   "cell_type": "markdown",
   "id": "0ed025d1-bbe1-46bd-b5a9-1498d38c320f",
   "metadata": {},
   "source": [
    "# Assignment Operators"
   ]
  },
  {
   "cell_type": "code",
   "execution_count": 7,
   "id": "e3256830-3530-4548-9e79-a0af034c3378",
   "metadata": {},
   "outputs": [
    {
     "name": "stdout",
     "output_type": "stream",
     "text": [
      "8\n"
     ]
    }
   ],
   "source": [
    "a = 5\n",
    "a += 3  # same as a = a + 3\n",
    "print(a)  # Output: 8\n"
   ]
  },
  {
   "cell_type": "code",
   "execution_count": 15,
   "id": "21446a33-e249-488d-bad4-4b1ead460b06",
   "metadata": {},
   "outputs": [
    {
     "name": "stdout",
     "output_type": "stream",
     "text": [
      "9765625\n"
     ]
    }
   ],
   "source": [
    "b = 5\n",
    "# b += 10\n",
    "# b -= 10\n",
    "# b *= 10\n",
    "# b %= 10\n",
    "# b /= 10\n",
    "# b //= 10\n",
    "b **= 10\n",
    "print(b)"
   ]
  },
  {
   "cell_type": "markdown",
   "id": "5b9158fb-0ff6-4091-b83f-b5b5703d8199",
   "metadata": {},
   "source": [
    "# Logical Operators:\n",
    "## - AND (Logical AND)"
   ]
  },
  {
   "cell_type": "code",
   "execution_count": 22,
   "id": "ef1c86f1-d59a-4e4b-8765-67ccb834851d",
   "metadata": {},
   "outputs": [
    {
     "name": "stdout",
     "output_type": "stream",
     "text": [
      "Both conditions are True\n"
     ]
    }
   ],
   "source": [
    "a = 10\n",
    "b = 5\n",
    "if a > 3 and b < 10:\n",
    "    print(\"Both conditions are True\")\n",
    "else:\n",
    "    print(\"At least one condition is False\")\n"
   ]
  },
  {
   "cell_type": "code",
   "execution_count": 23,
   "id": "5f99c63d-6e9a-4470-afcf-a97aa02938af",
   "metadata": {},
   "outputs": [
    {
     "name": "stdout",
     "output_type": "stream",
     "text": [
      "Both conditions are true\n"
     ]
    }
   ],
   "source": [
    "# MY WORK\n",
    "\n",
    "a = 20\n",
    "b = 25\n",
    "if a > 15 and b > 20:\n",
    "    print(\"Both conditions are true\")\n",
    "else:\n",
    "    print(\"at least and condition is false\")"
   ]
  },
  {
   "cell_type": "markdown",
   "id": "6ca7ebe0-a1e3-43ed-8608-1b58ca421bcc",
   "metadata": {},
   "source": [
    " ## - or (Logical OR)"
   ]
  },
  {
   "cell_type": "code",
   "execution_count": 24,
   "id": "9957dfc5-6351-47e8-98f1-fc8b3eeaafee",
   "metadata": {},
   "outputs": [
    {
     "name": "stdout",
     "output_type": "stream",
     "text": [
      "At least one condition is True\n"
     ]
    }
   ],
   "source": [
    "a = 10\n",
    "b = 15\n",
    "if a > 3 or b > 20:\n",
    "    print(\"At least one condition is True\")\n",
    "else:\n",
    "    print(\"Both conditions are False\")\n"
   ]
  },
  {
   "cell_type": "code",
   "execution_count": 26,
   "id": "c2a434e3-27e4-46c2-98b7-6246b0ff1d8e",
   "metadata": {},
   "outputs": [
    {
     "name": "stdout",
     "output_type": "stream",
     "text": [
      "At least  one condition is ture\n"
     ]
    }
   ],
   "source": [
    "# MY WORK\n",
    "\n",
    "a = 5\n",
    "b = 10\n",
    "if a < 10 or b > 15:\n",
    "    print(\"At least  one condition is ture\")\n",
    "\n",
    "else:\n",
    "    print(\"Both conditions are false\")"
   ]
  },
  {
   "cell_type": "markdown",
   "id": "84d1f22b-37b8-4baa-b8e7-88ba8a4fc5b4",
   "metadata": {},
   "source": [
    "## -not (Logical NOT)"
   ]
  },
  {
   "cell_type": "code",
   "execution_count": 27,
   "id": "6c568dcf-e4f2-4a96-bf4f-946d0b2a2165",
   "metadata": {},
   "outputs": [
    {
     "name": "stdout",
     "output_type": "stream",
     "text": [
      "Condition is False (because a is not less than 5)\n"
     ]
    }
   ],
   "source": [
    "a = 10\n",
    "if not a < 5:\n",
    "    print(\"Condition is False (because a is not less than 5)\")\n"
   ]
  },
  {
   "cell_type": "code",
   "execution_count": 32,
   "id": "0f04fa7e-3acf-4da8-b7bb-9193e4ef0d4d",
   "metadata": {},
   "outputs": [
    {
     "name": "stdout",
     "output_type": "stream",
     "text": [
      "condition is false\n"
     ]
    }
   ],
   "source": [
    "a = 20\n",
    "if not a < 25:\n",
    "    print(\"condition is true\")\n",
    "\n",
    "else:\n",
    "    print(\"condition is false\")"
   ]
  },
  {
   "cell_type": "markdown",
   "id": "40c7b86a-0475-4af8-ae91-d6e370205975",
   "metadata": {},
   "source": [
    "# Membership Operators\n",
    "## - in"
   ]
  },
  {
   "cell_type": "code",
   "execution_count": 33,
   "id": "ad8e5dc8-16a2-4acb-855e-bbff4c070c96",
   "metadata": {},
   "outputs": [
    {
     "name": "stdout",
     "output_type": "stream",
     "text": [
      "3 is in the list\n"
     ]
    }
   ],
   "source": [
    "list = [1, 2, 3, 4, 5]\n",
    "if 3 in list:\n",
    "    print(\"3 is in the list\")\n",
    "else:\n",
    "    print(\"3 is not in the list\")\n"
   ]
  },
  {
   "cell_type": "code",
   "execution_count": 44,
   "id": "fdd8e419-0b9d-42af-80df-3c66f7232612",
   "metadata": {},
   "outputs": [
    {
     "name": "stdout",
     "output_type": "stream",
     "text": [
      "Yes! y is in the list\n"
     ]
    }
   ],
   "source": [
    "x = 10\n",
    "y = 15\n",
    "z = 20\n",
    "\n",
    "my_list = [x,  y,  z,]\n",
    "if y in my_list:\n",
    "    print(\"Yes! y is in the list\")\n",
    "\n",
    "else:\n",
    "    print(\"y not in the list\")"
   ]
  },
  {
   "cell_type": "markdown",
   "id": "ee48057b-cb95-44db-9ff2-352ec1a168d2",
   "metadata": {},
   "source": [
    "## - not in (Negative Membership Operator)"
   ]
  },
  {
   "cell_type": "code",
   "execution_count": 48,
   "id": "1ee70a02-1293-4ac9-893a-005273a6bce6",
   "metadata": {},
   "outputs": [
    {
     "name": "stdout",
     "output_type": "stream",
     "text": [
      "10 is not in the list\n"
     ]
    }
   ],
   "source": [
    "list = [1, 2, 3, 4, 5]\n",
    "if 10 not in list:\n",
    "    print(\"10 is not in the list\")\n",
    "\n",
    "else:\n",
    "    print(\"10 is in the list\")\n"
   ]
  },
  {
   "cell_type": "code",
   "execution_count": 53,
   "id": "c66376ad-f38f-4abe-96c7-e0253330caf6",
   "metadata": {},
   "outputs": [
    {
     "name": "stdout",
     "output_type": "stream",
     "text": [
      "D is not in the list\n"
     ]
    }
   ],
   "source": [
    "a = 5\n",
    "b = 10\n",
    "c = 15\n",
    "d = 20\n",
    "\n",
    "my_list = [a, b, c,]\n",
    "if d not in my_list:\n",
    "    print(\"D is not in the list\")\n",
    "\n",
    "else:\n",
    "    print(\"D in the list\")"
   ]
  },
  {
   "cell_type": "code",
   "execution_count": 54,
   "id": "6b0d063f-f5dd-4641-8f47-b4e02ffa7e2e",
   "metadata": {},
   "outputs": [
    {
     "name": "stdout",
     "output_type": "stream",
     "text": [
      "25\n"
     ]
    }
   ],
   "source": [
    "a =5 \n",
    "b = 2\n",
    "print(a ** b)"
   ]
  },
  {
   "cell_type": "code",
   "execution_count": 56,
   "id": "42a8a5e4-5c1b-43f2-b0b9-b6a5dfa21ea9",
   "metadata": {},
   "outputs": [
    {
     "name": "stdout",
     "output_type": "stream",
     "text": [
      "555\n"
     ]
    }
   ],
   "source": [
    "a = \"5\"\n",
    "b = 3\n",
    "print(a * b)\n"
   ]
  },
  {
   "cell_type": "code",
   "execution_count": null,
   "id": "f010770c-7b0c-457b-9620-42d3fec48bcc",
   "metadata": {},
   "outputs": [],
   "source": []
  }
 ],
 "metadata": {
  "kernelspec": {
   "display_name": "Python 3 (ipykernel)",
   "language": "python",
   "name": "python3"
  },
  "language_info": {
   "codemirror_mode": {
    "name": "ipython",
    "version": 3
   },
   "file_extension": ".py",
   "mimetype": "text/x-python",
   "name": "python",
   "nbconvert_exporter": "python",
   "pygments_lexer": "ipython3",
   "version": "3.12.7"
  }
 },
 "nbformat": 4,
 "nbformat_minor": 5
}
